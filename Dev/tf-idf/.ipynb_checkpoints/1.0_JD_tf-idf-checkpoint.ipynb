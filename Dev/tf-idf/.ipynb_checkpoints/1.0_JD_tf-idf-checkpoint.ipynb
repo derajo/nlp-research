{
 "cells": [
  {
   "cell_type": "code",
   "execution_count": 34,
   "metadata": {},
   "outputs": [],
   "source": [
    "# packages\n",
    "import random\n",
    "from collections import defaultdict, Counter"
   ]
  },
  {
   "cell_type": "code",
   "execution_count": 2,
   "metadata": {},
   "outputs": [],
   "source": [
    "# load in data\n",
    "file_loc = '../../../nlp-research-data/Data/Raw/wikisent2.txt'\n",
    "fp = open(file_loc, 'r')\n",
    "with open(file_loc) as f:\n",
    "    content = [line.rstrip('\\n') for line in f]"
   ]
  },
  {
   "cell_type": "code",
   "execution_count": 6,
   "metadata": {},
   "outputs": [],
   "source": [
    "# pick random sentences\n",
    "from math import log\n",
    "random.shuffle(content)\n",
    "corpus = content[0:10000]\n",
    "num_docs = len(corpus)"
   ]
  },
  {
   "cell_type": "code",
   "execution_count": 55,
   "metadata": {},
   "outputs": [],
   "source": [
    "\n",
    "\n",
    "\n",
    "def format_documents(doc):\n",
    "    doc = doc.lower()\n",
    "    doc = doc.translate(str.maketrans('', '', string.punctuation))\n",
    "    doc = doc.split(' ')\n",
    "    \n",
    "    return doc\n",
    "\n",
    "def inverse_document_frequency(docs,tokens,num_docs):\n",
    "    d = defaultdict(int)\n",
    "    for token in tokens:\n",
    "        for doc in docs:\n",
    "            if token in doc:\n",
    "                d[token] += 1\n",
    "    \n",
    "    idf_dict\n",
    "    for tok,count in d.items():\n",
    "        \n",
    "    return d\n",
    "\n",
    "\n",
    "    "
   ]
  },
  {
   "cell_type": "code",
   "execution_count": 76,
   "metadata": {},
   "outputs": [
    {
     "name": "stdout",
     "output_type": "stream",
     "text": [
      "yes 1\n"
     ]
    }
   ],
   "source": [
    "for t,c in d.items():\n",
    "    print(t,c)"
   ]
  },
  {
   "cell_type": "code",
   "execution_count": 56,
   "metadata": {},
   "outputs": [],
   "source": [
    "num_docs = len(corpus)\n",
    "docs = map(format_documents,samp)\n",
    "tokens =  set([item for sublist in docs for item in sublist])\n",
    "tf = map(Counter,docs)\n",
    "#idf = "
   ]
  }
 ],
 "metadata": {
  "kernelspec": {
   "display_name": "Python 3",
   "language": "python",
   "name": "python3"
  },
  "language_info": {
   "codemirror_mode": {
    "name": "ipython",
    "version": 3
   },
   "file_extension": ".py",
   "mimetype": "text/x-python",
   "name": "python",
   "nbconvert_exporter": "python",
   "pygments_lexer": "ipython3",
   "version": "3.7.0"
  }
 },
 "nbformat": 4,
 "nbformat_minor": 2
}
